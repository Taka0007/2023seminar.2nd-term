{
  "nbformat": 4,
  "nbformat_minor": 0,
  "metadata": {
    "colab": {
      "provenance": [],
      "authorship_tag": "ABX9TyMowEhphRnAOH4KdvHRxECf",
      "include_colab_link": true
    },
    "kernelspec": {
      "name": "python3",
      "display_name": "Python 3"
    },
    "language_info": {
      "name": "python"
    }
  },
  "cells": [
    {
      "cell_type": "markdown",
      "metadata": {
        "id": "view-in-github",
        "colab_type": "text"
      },
      "source": [
        "<a href=\"https://colab.research.google.com/github/Taka0007/2023seminar.2nd-term/blob/main/speech%20analysis/code/phase_recovery.ipynb\" target=\"_parent\"><img src=\"https://colab.research.google.com/assets/colab-badge.svg\" alt=\"Open In Colab\"/></a>"
      ]
    },
    {
      "cell_type": "markdown",
      "source": [
        "## 各種ライブラリインポート"
      ],
      "metadata": {
        "id": "f5cGmlf9_K8U"
      }
    },
    {
      "cell_type": "code",
      "execution_count": 1,
      "metadata": {
        "id": "Nk7rP_gb-EiR"
      },
      "outputs": [],
      "source": [
        "# import\n",
        "import numpy as np\n",
        "import torch\n",
        "import scipy\n",
        "import pandas as pd\n",
        "import librosa\n",
        "import librosa.display\n",
        "import matplotlib.pyplot as plt\n",
        "from numpy import linalg as LA\n",
        "from sklearn.decomposition import NMF\n",
        "from tqdm import tqdm\n",
        "from IPython.display import Audio"
      ]
    },
    {
      "cell_type": "markdown",
      "source": [
        "## 音声データ読み込みetc"
      ],
      "metadata": {
        "id": "28GJDnOLACb5"
      }
    },
    {
      "cell_type": "code",
      "source": [
        "# Load audio file\n",
        "file_path = '/content/Vinyl-sabi.wav'\n",
        "audio_data, sr = librosa.load(file_path)"
      ],
      "metadata": {
        "colab": {
          "base_uri": "https://localhost:8080/"
        },
        "id": "tL-oH_D5_Kh0",
        "outputId": "04ba38de-ce2e-4642-b473-50fc1de551a0"
      },
      "execution_count": 2,
      "outputs": [
        {
          "output_type": "stream",
          "name": "stderr",
          "text": [
            "<ipython-input-2-91b03351bb4d>:3: UserWarning: PySoundFile failed. Trying audioread instead.\n",
            "  audio_data, sr = librosa.load(file_path)\n",
            "/usr/local/lib/python3.10/dist-packages/librosa/core/audio.py:183: FutureWarning: librosa.core.audio.__audioread_load\n",
            "\tDeprecated as of librosa version 0.10.0.\n",
            "\tIt will be removed in librosa version 1.0.\n",
            "  y, sr_native = __audioread_load(path, offset, duration, dtype)\n"
          ]
        }
      ]
    }
  ]
}