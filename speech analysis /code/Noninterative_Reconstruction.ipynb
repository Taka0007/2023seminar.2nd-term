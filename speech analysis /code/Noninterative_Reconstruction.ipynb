{
  "nbformat": 4,
  "nbformat_minor": 0,
  "metadata": {
    "colab": {
      "provenance": [],
      "authorship_tag": "ABX9TyPohybRPLfFKGzeEl8NTT88",
      "include_colab_link": true
    },
    "kernelspec": {
      "name": "python3",
      "display_name": "Python 3"
    },
    "language_info": {
      "name": "python"
    }
  },
  "cells": [
    {
      "cell_type": "markdown",
      "metadata": {
        "id": "view-in-github",
        "colab_type": "text"
      },
      "source": [
        "<a href=\"https://colab.research.google.com/github/Taka0007/2023seminar.2nd-term/blob/main/speech%20analysis%20/code/Noninterative_Reconstruction.ipynb\" target=\"_parent\"><img src=\"https://colab.research.google.com/assets/colab-badge.svg\" alt=\"Open In Colab\"/></a>"
      ]
    },
    {
      "cell_type": "markdown",
      "source": [
        "## 非反復の位相復元の実装\n",
        "下記論文の実装　<br>\n",
        "https://ieeexplore.ieee.org/stamp/stamp.jsp?tp=&arnumber=7890450"
      ],
      "metadata": {
        "id": "CRkztjPpURiw"
      }
    },
    {
      "cell_type": "code",
      "source": [
        "import heapq\n",
        "import pandas as pd\n",
        "import numpy as np\n",
        "import librosa\n",
        "import librosa.display\n",
        "import matplotlib.pyplot as plt\n",
        "from numpy import linalg as LA\n",
        "from sklearn.decomposition import NMF\n",
        "from scipy import signal\n",
        "from tqdm import tqdm\n",
        "from IPython.display import Audio\n",
        "\n",
        "def calculate_phase_gradient(S, a, b, lambda_L, M):\n",
        "    \"\"\"\n",
        "    Calculate the phase gradient for STFT.\n",
        "\n",
        "    :param S: STFT magnitude matrix.\n",
        "    :param a, b: Hop sizes.\n",
        "    :param lambda_L: Scaling parameter.\n",
        "    :param M: Number of frequency bins.\n",
        "    :return: Phase gradient matrix.\n",
        "    \"\"\"\n",
        "    slog = np.log(S)\n",
        "    Dt = np.diff(slog, axis=0, append=slog[-1:])\n",
        "    Dω = np.diff(slog, axis=1, append=slog[:, -1:])\n",
        "\n",
        "    φSC_ω = -lambda_L / (a * M) * Dt\n",
        "    φSC_t = (a * M) / lambda_L * Dω + 2 * np.pi * a / M\n",
        "\n",
        "    return np.stack([φSC_ω, φSC_t], axis=-1)\n",
        "\n",
        "def integrate_phase_gradient(phase_gradient, tol=0.1):\n",
        "    \"\"\"\n",
        "    Integrate the phase gradient using heap for path management.\n",
        "\n",
        "    :param phase_gradient: Computed phase gradient.\n",
        "    :param tol: Relative magnitude tolerance.\n",
        "    :return: Reconstructed phase matrix.\n",
        "    \"\"\"\n",
        "    magnitude = np.abs(phase_gradient)\n",
        "    phase = np.zeros_like(magnitude)\n",
        "\n",
        "    # Create a heap for managing integration paths\n",
        "    heap = [(magnitude[i, j], i, j) for i in range(magnitude.shape[0]) for j in range(magnitude.shape[1])]\n",
        "    heapq.heapify(heap)\n",
        "\n",
        "    while heap:\n",
        "        mag, i, j = heapq.heappop(heap)\n",
        "\n",
        "        # Skip coefficients below tolerance\n",
        "        if mag < tol:\n",
        "            continue\n",
        "\n",
        "        # Integrate phase gradient\n",
        "        # This is a simplified version; in practice, you need to integrate along the paths efficiently.\n",
        "        if i > 0:\n",
        "            phase[i, j] += phase[i - 1, j] + phase_gradient[i - 1, j, 0]\n",
        "        if j > 0:\n",
        "            phase[i, j] += phase[i, j - 1] + phase_gradient[i, j - 1, 1]\n",
        "\n",
        "    return phase\n",
        "\n",
        "\n",
        "# Load audio file\n",
        "file_path = '/content/Vinyl-sabi.wav'\n",
        "audio_data, sr = librosa.load(file_path)\n",
        "\n",
        "# ガウス窓の標準偏差（この値は実験的に決定する）\n",
        "std = 2048 / 6\n",
        "\n",
        "# Compute the STFT (STFT magnitude matrix)\n",
        "window = signal.windows.gaussian(2048, std)\n",
        "stft_matrix = librosa.stft(audio_data, n_fft=2048, hop_length=80, win_length=2048, window=window)\n",
        "\n",
        "a, b = 10, 10\n",
        "lambda_L = 1\n",
        "M = 100\n",
        "\n",
        "phase_gradient = calculate_phase_gradient(stft_matrix, a, b, lambda_L, M)\n",
        "\n",
        "# STFTの振幅成分を取得\n",
        "magnitude = np.abs(stft_matrix)\n",
        "\n",
        "# 推定された位相の結果を組み合わせる\n",
        "combined_stft = magnitude * np.exp(1j * phase_gradient)\n",
        "\n",
        "# 2. 逆STFTの実行\n",
        "reconstructed_signal = librosa.istft(combined_stft, hop_length=80, win_length=2048, window='gaussian')\n",
        "\n",
        "# 3. 音声の再生\n",
        "Audio(reconstructed_signal, rate=sr)"
      ],
      "metadata": {
        "colab": {
          "base_uri": "https://localhost:8080/",
          "height": 388
        },
        "id": "LZN73h018bGq",
        "outputId": "5290fdb1-535a-4770-f1d0-a5328c082809"
      },
      "execution_count": 4,
      "outputs": [
        {
          "output_type": "stream",
          "name": "stderr",
          "text": [
            "<ipython-input-4-cb47cad6363a>:66: UserWarning: PySoundFile failed. Trying audioread instead.\n",
            "  audio_data, sr = librosa.load(file_path)\n",
            "/usr/local/lib/python3.10/dist-packages/librosa/core/audio.py:183: FutureWarning: librosa.core.audio.__audioread_load\n",
            "\tDeprecated as of librosa version 0.10.0.\n",
            "\tIt will be removed in librosa version 1.0.\n",
            "  y, sr_native = __audioread_load(path, offset, duration, dtype)\n",
            "<ipython-input-4-cb47cad6363a>:85: RuntimeWarning: overflow encountered in exp\n",
            "  combined_stft = magnitude * np.exp(1j * phase_gradient)\n"
          ]
        },
        {
          "output_type": "error",
          "ename": "ValueError",
          "evalue": "ignored",
          "traceback": [
            "\u001b[0;31m---------------------------------------------------------------------------\u001b[0m",
            "\u001b[0;31mValueError\u001b[0m                                Traceback (most recent call last)",
            "\u001b[0;32m<ipython-input-4-cb47cad6363a>\u001b[0m in \u001b[0;36m<cell line: 85>\u001b[0;34m()\u001b[0m\n\u001b[1;32m     83\u001b[0m \u001b[0;34m\u001b[0m\u001b[0m\n\u001b[1;32m     84\u001b[0m \u001b[0;31m# 推定された位相の結果を組み合わせる\u001b[0m\u001b[0;34m\u001b[0m\u001b[0;34m\u001b[0m\u001b[0m\n\u001b[0;32m---> 85\u001b[0;31m \u001b[0mcombined_stft\u001b[0m \u001b[0;34m=\u001b[0m \u001b[0mmagnitude\u001b[0m \u001b[0;34m*\u001b[0m \u001b[0mnp\u001b[0m\u001b[0;34m.\u001b[0m\u001b[0mexp\u001b[0m\u001b[0;34m(\u001b[0m\u001b[0;36m1j\u001b[0m \u001b[0;34m*\u001b[0m \u001b[0mphase_gradient\u001b[0m\u001b[0;34m)\u001b[0m\u001b[0;34m\u001b[0m\u001b[0;34m\u001b[0m\u001b[0m\n\u001b[0m\u001b[1;32m     86\u001b[0m \u001b[0;34m\u001b[0m\u001b[0m\n\u001b[1;32m     87\u001b[0m \u001b[0;31m# 2. 逆STFTの実行\u001b[0m\u001b[0;34m\u001b[0m\u001b[0;34m\u001b[0m\u001b[0m\n",
            "\u001b[0;31mValueError\u001b[0m: operands could not be broadcast together with shapes (1025,5507) (1025,5507,2) "
          ]
        }
      ]
    }
  ]
}